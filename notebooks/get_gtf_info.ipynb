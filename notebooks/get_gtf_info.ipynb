{
 "cells": [
  {
   "cell_type": "markdown",
   "metadata": {},
   "source": [
    "# Extract information from GENCODE GTF\n",
    "\n",
    "**Author**\n",
    "\n",
    "```\n",
    "Tzintzuni I. Garcia PhD\n",
    "Senior Bioinformatician\n",
    "Center for Translational Data Science\n",
    "The University of Chicago\n",
    "```\n",
    "https://github.com/tzuni\n",
    "\n",
    "\n",
    "This notebook extracts gene biotype information from the GTF and calculates feature coverage for all genes in the Gencode v22 annotation."
   ]
  },
  {
   "cell_type": "code",
   "execution_count": null,
   "metadata": {},
   "outputs": [],
   "source": [
    "import pandas as pd\n",
    "import pyranges as pr"
   ]
  },
  {
   "cell_type": "code",
   "execution_count": null,
   "metadata": {},
   "outputs": [],
   "source": [
    "# Load GTF File\n",
    "gtf_file = '../gencode.v22.annotation.sorted.gtf'\n",
    "\n",
    "colnames = ['seq', 'source', 'type', 'start', 'end', 'score', 'strand', 'phase', 'attributes']\n",
    "df = pd.read_table(gtf_file, comment='#', header=None, names=colnames, )\n",
    "\n",
    "df.head()"
   ]
  },
  {
   "cell_type": "code",
   "execution_count": null,
   "metadata": {},
   "outputs": [],
   "source": [
    "# Just keep the gene biotype\n",
    "sel_gene = df['type'] == 'gene'\n",
    "gdf = df.loc[sel_gene].copy()"
   ]
  },
  {
   "cell_type": "code",
   "execution_count": null,
   "metadata": {},
   "outputs": [],
   "source": [
    "attr_types = [\n",
    "    'gene_id',\n",
    "    'transcript_id',\n",
    "    'gene_type',\n",
    "    'gene_status',\n",
    "    'gene_name',\n",
    "    'transcript_type',\n",
    "    'transcript_status',\n",
    "    'transcript_name',\n",
    "    'exon_number',\n",
    "    'exon_id',\n",
    "    'level',\n",
    "    'tag',\n",
    "    'ccdsid',\n",
    "    'havana_gene',\n",
    "    'havana_transcript',\n",
    "    'protein_id',\n",
    "    'ont',\n",
    "    'transcript_support_level'\n",
    "]\n",
    "\n",
    "def parse_attrs(val):\n",
    "    rec = {k: None for k in attr_types}\n",
    "    parts = val.rstrip(';').split('; ')\n",
    "    for p in parts:\n",
    "        k, v = p.split(' ', 1)\n",
    "        rec[k] = v.strip('\"')\n",
    "    return pd.Series(rec, index=attr_types)"
   ]
  },
  {
   "cell_type": "code",
   "execution_count": null,
   "metadata": {},
   "outputs": [],
   "source": [
    "# This step takes some time\n",
    "res = gdf['attributes'].apply(parse_attrs)"
   ]
  },
  {
   "cell_type": "code",
   "execution_count": null,
   "metadata": {},
   "outputs": [],
   "source": [
    "# add extracted columns to gtf columns\n",
    "tmp = pd.concat([gdf, res], axis=1)\n",
    "tmp = tmp.drop(columns=['attributes'])\n",
    "# rename columns in preparation for PyRanges\n",
    "tmp = tmp.rename(columns={'seq': 'Chromosome', 'start': 'Start', 'end': 'End'})\n",
    "tmp.head()"
   ]
  },
  {
   "cell_type": "code",
   "execution_count": null,
   "metadata": {},
   "outputs": [],
   "source": [
    "# create pyranges\n",
    "gpr = pr.PyRanges(tmp)"
   ]
  },
  {
   "cell_type": "code",
   "execution_count": null,
   "metadata": {},
   "outputs": [],
   "source": [
    "# create clusters to limit overlap processing time\n",
    "clusters = gpr.cluster()"
   ]
  },
  {
   "cell_type": "code",
   "execution_count": null,
   "metadata": {},
   "outputs": [],
   "source": [
    "# Calculate coverage for each gene feature\n",
    "# This takes about 9 minutes on my 4-core dell xps13\n",
    "\n",
    "from multiprocessing import Pool\n",
    "\n",
    "def findcluster_overlaps(cldf):\n",
    "    cl_data = []\n",
    "    for gene_id in cldf['gene_id']:\n",
    "        sel_gene = cldf['gene_id'] == gene_id\n",
    "        A = cldf.loc[sel_gene]\n",
    "        B = cldf.loc[~sel_gene]\n",
    "        prA = pr.PyRanges(A)\n",
    "        prB = pr.PyRanges(B)\n",
    "        res = prA.coverage(prB)\n",
    "        cl_data.append(res.df[['gene_id', 'NumberOverlaps', 'FractionOverlaps']])\n",
    "    return cl_data\n",
    "\n",
    "with Pool(4) as p:\n",
    "    cl_data = p.map(findcluster_overlaps, [grp for idx, grp in clusters.df.groupby('Cluster')], 100)"
   ]
  },
  {
   "cell_type": "code",
   "execution_count": null,
   "metadata": {},
   "outputs": [],
   "source": [
    "# flatten nested lists and concat into a dataframe\n",
    "from itertools import chain\n",
    "\n",
    "covdf = pd.concat(chain(*cl_data))"
   ]
  },
  {
   "cell_type": "code",
   "execution_count": null,
   "metadata": {},
   "outputs": [],
   "source": [
    "covdf.head()"
   ]
  },
  {
   "cell_type": "code",
   "execution_count": null,
   "metadata": {},
   "outputs": [],
   "source": [
    "df2 = pd.merge(tmp, covdf, on='gene_id')\n",
    "df2['overlap_other'] = df2['NumberOverlaps'] > 0\n",
    "df2 = df2.rename(columns={'NumberOverlaps': 'overlap_counts', 'FractionOverlaps': 'overlap_fraction'})"
   ]
  },
  {
   "cell_type": "code",
   "execution_count": null,
   "metadata": {},
   "outputs": [],
   "source": [
    "df2.columns"
   ]
  },
  {
   "cell_type": "code",
   "execution_count": null,
   "metadata": {},
   "outputs": [],
   "source": [
    "df2[['gene_id', 'gene_type', 'overlap_counts', 'overlap_fraction', 'overlap_other']].to_csv('gene_types.tsv', sep='\\t', header=True, index=False)"
   ]
  },
  {
   "cell_type": "code",
   "execution_count": null,
   "metadata": {},
   "outputs": [],
   "source": []
  }
 ],
 "metadata": {
  "kernelspec": {
   "display_name": "Python 3",
   "language": "python",
   "name": "python3"
  },
  "language_info": {
   "codemirror_mode": {
    "name": "ipython",
    "version": 3
   },
   "file_extension": ".py",
   "mimetype": "text/x-python",
   "name": "python",
   "nbconvert_exporter": "python",
   "pygments_lexer": "ipython3",
   "version": "3.6.9"
  }
 },
 "nbformat": 4,
 "nbformat_minor": 4
}
